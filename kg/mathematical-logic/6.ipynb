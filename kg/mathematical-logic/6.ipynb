{
 "cells": [
  {
   "cell_type": "markdown",
   "metadata": {},
   "source": [
    "# 第6章 可靠性与完全性\n",
    "我们要证明，经典语义后承概念$\\models$与经典语形后承概念$\\vdash_c$在外延上恰好重合，就是说$\\Phi\\models\\varphi\\Leftrightarrow\\Phi\\vdash_c\\varphi$。\n",
    "\n",
    "方向“$\\Leftarrow$”表明，经典逻辑的推演是有效的推理，语形上的推演不会导致语义上不正确的推理，这称为经典逻辑的`可靠性`；而“$\\Rightarrow$”表明有效的推理都能实现为经典逻辑的推演，语形上的推演穷尽了语义上正确的推理，这称为经典逻辑的`完全性`。"
   ]
  },
  {
   "cell_type": "markdown",
   "metadata": {},
   "source": [
    "## 1.经典可靠性\n",
    "**1.1 经典逻辑的可靠性定理**：对于$\\mathcal L$-公式集$\\Phi$与$\\mathcal L$-公式$\\varphi$，如果$\\Phi\\vdash_c\\varphi$，那么$\\Phi\\models\\varphi$。\n",
    "\n",
    "**1.2 系理**：对于$\\mathcal L$-公式$\\varphi$，如果$\\vdash_c\\varphi$，那么$\\models\\varphi$。"
   ]
  },
  {
   "cell_type": "markdown",
   "metadata": {},
   "source": [
    "## 2.一致性\n",
    "**2.1 定义**：对于$\\mathcal L$-公式集$\\Phi$，$\\Phi$是`c-一致的`，当且仅当，不存在$\\mathcal L$-公式$\\varphi$，使得$\\Phi\\vdash_c\\varphi\\land\\lnot\\varphi$。\n",
    "\n",
    "并非c-一致，称为`c-不一致`。因此，$\\Phi$是c-不一致的，当且仅当在经典逻辑里，$\\Phi$可推出矛盾。\n",
    "\n",
    "**2.10 定义**：$\\mathcal L$-公式集$\\Phi$称为`极大一致的`，如果\n",
    "\n",
    "1. $\\Phi$是一致的；\n",
    "2. 对于任何$\\mathcal L$-公式$\\varphi$，若$\\Phi\\cup\\{\\varphi\\}$是一致的，则$\\varphi\\in\\Phi$。\n",
    "\n",
    "**2.13 极大化引理（Lindenbaum）**：设$\\mathcal L$为一阶语言，如果$\\mathcal L$-公式集$\\Phi$是一致的，则存在极大一致的$\\mathcal L$-公式集$\\Psi$，使得$\\Phi\\subseteq\\Psi$。"
   ]
  },
  {
   "cell_type": "markdown",
   "metadata": {},
   "source": [
    "## 3.经典命题完全性\n",
    "**3.1 可满足性引理**：如果$\\mathcal L^p$-公式集$\\Phi$是一致的，则$\\Phi$可满足。\n",
    "\n",
    "**3.2 经典命题逻辑完全性定理**：对于任何的公式集$\\Phi$和公式$\\varphi$，如果$\\Phi\\models\\varphi$，那么$\\Phi\\vdash_c\\varphi$。\n",
    "\n",
    "这个定理的一个特例是：\n",
    "\n",
    "**3.3 定理**：如果$\\varphi$是重言式，则$\\vdash_c\\varphi$。\n",
    "\n",
    "**3.4 定理**：$\\Phi$是可满足的，当且仅当，$\\Phi$的任何有穷子集都是可满足的"
   ]
  },
  {
   "cell_type": "code",
   "execution_count": null,
   "metadata": {},
   "outputs": [],
   "source": []
  }
 ],
 "metadata": {
  "kernelspec": {
   "display_name": "Python 3",
   "language": "python",
   "name": "python3"
  },
  "language_info": {
   "codemirror_mode": {
    "name": "ipython",
    "version": 3
   },
   "file_extension": ".py",
   "mimetype": "text/x-python",
   "name": "python",
   "nbconvert_exporter": "python",
   "pygments_lexer": "ipython3",
   "version": "3.7.2"
  }
 },
 "nbformat": 4,
 "nbformat_minor": 2
}
