{
 "cells": [
  {
   "cell_type": "markdown",
   "metadata": {},
   "source": [
    "# Rule-based query answering method for a knowledge base of economic crimes\n",
    "\n",
    "Jarosław Ksawery BA ̨K,[link](http://note.youdao.com/noteshare?id=9658e978f957cb6257090d69757dd99a)\n",
    "\n",
    "## 2.Preliminaries\n",
    "### 2.1 Theoretical Background\n",
    "#### 2.1.1 First-order Logic"
   ]
  },
  {
   "cell_type": "markdown",
   "metadata": {},
   "source": [
    "##### 2.1.1.1 Syntax\n",
    "- Definition 2.1 (`Alphabet`). An alphabet of the first-order logic consists of the following symbols:\n",
    "  - A set of constants: a, b, c, ...\n",
    "  - A set of variables: ?x, ?y, ?z, ...\n",
    "  - A set of function symbols: f, g, ..., where each function symbol has assigned arity (a natural number).\n",
    "  - A set of predicate symbols: p,q,..., where each predicate symbol has as- signed arity (a natural number).\n",
    "  - A set of logical connectives: ¬ (negation), ∧ (conjunction), ∨ (disjunction), → (implication) and ↔ (material equivalence).\n",
    "  - Two quantifiers: ∃ (existential) and ∀ (universal).\n",
    "  - A set of punctuation symbols: ‘(’, ‘)’ and ‘,’.\n",
    "\n",
    "A symbol of arity 1 is called a `unary` symbol; a symbol of arity 2 is called a `binary` symbol; a symbol of arity n is called `n-ary` symbol. The arity of a symbol may be 0. Such symbols are `constants`.\n",
    "\n",
    "- Definition 2.2 (`Term`). A term is defined as follows:\n",
    "  1. A variable is a term.\n",
    "  2. A constant is a term.\n",
    "  3. If f is an n-ary function symbol with arity n and $t_1, t_2, ..., t_n$ are terms, then $f(t_1, t_2, ..., t_n)$ is a term.\n",
    "- Definition 2.3 (`Ground term`). A term which does not contain any variables is called a ground term.\n",
    "- Definition 2.4 (`Atom`). Let p be a predicate symbol with arity n. Let $t_1, t_2, ..., t_n$ be terms, then $p(t_1, t_2, ..., t_n)$ is an atom (or atomic formula). An atom which does not contain any variables is called a ground atom.\n",
    "- Definition 2.5 (`Well-formed Formula`). A well formed formula (or just formula) is defined as follows:\n",
    "  1. An atom is a formula.\n",
    "  2. If B and H are formulae then:\n",
    "      - ¬B is a formula\n",
    "      - B∧H is a formula\n",
    "      - B∨H is a formula\n",
    "      - B→H is a formula\n",
    "      - B≡H is a formula\n",
    "  3. If B is a formula and x is a variable, then (∃xH) and (∀xH) are formulae.\n",
    "- Definition 2.6 (Scope of Variables). If x is a variable and H is a formula then the scope of x in ∃xH and of ∀x in ∀xH is H. Combinations of ∃x and ∀x bind every occurrence of x in their scope. An occurrence of a variable which is not bound is called free.\n",
    "- Definition 2.7 (Open and Closed Formula). A formula is open if it has free variables. If a formula has no free variables then it is closed.\n",
    "- Definition 2.8 (Literal). Let H be an atom. Then ¬H and H are called literals, whereas H is called positive literal, while ¬H is called negative literal.\n",
    "- Definition 2.9 (`First-order Language`). A First-order language is defined over an alphabet and consists of the set of all well-formed formulae that can be constructed from the symbols of the alphabet. A FOL language is called function-free if it does not contain any function symbol (a set of functions symbols is an empty set)."
   ]
  },
  {
   "cell_type": "markdown",
   "metadata": {},
   "source": [
    "##### 2.1.1.2 Semantics\n",
    "Informally, the semantics of the first-order logic language is defined by attributing meaning (or truth values) to well-formed formulae (sentences). The sentences are mapped to some statements about a given domain through a process known as `interpretation`. If an interpretation gives the `true` value to a sentence then it is said to `satisfy` the sentence. Such an interpretation is called a `model` for the sentence.\n",
    "\n",
    "- Definition 2.10 (`Interpretation`). An interpretation I consists of the following:\n",
    "    1. A non-empty set $\\Delta^I$ called the universe of I or the domain of the interpretation. The members of $\\Delta^I$ are called individuals of I.\n",
    "    2. An interpretation function $\\cdot^I$ , which assigns elements of the alphabet to $\\Delta^I$ satisfying the following conditions:\n",
    "        - Each constant c is mapped to an element $c^I \\in \\Delta^I$\n",
    "        - Each function symbol f of arity n is mapped to a function: \n",
    "          - $f^I :(\\Delta^I)^n \\to \\Delta^I$\n",
    "        - Each predicate symbol p of arity n is mapped to a function: \n",
    "          - $p^I :(\\Delta^I)^n \\to \\{true,false\\}$\n",
    "- Definition 2.11 (`Assignment`).\n",
    "    1. Variable Assignment. A variable assignment is a mapping function σ, which assigns an element $c \\in \\Delta^I$ to every variable x from a set of variables $\\bar{X}$:\n",
    "       - $\\sigma : \\bar{X} \\to \\Delta^I$\n",
    "    1. Term Assignment. The term assignment w.r.t. σ of the term $t \\in \\Delta^I$ is defined as:\n",
    "        - Each variable assignment is given according to σ,\n",
    "        - Each constant assignment is given according to I,\n",
    "        - If $t^`_1, t^`_2, ..., t^`_n$ are term assignments of $t_1, t_2, ..., t_n$ and $f^`$ is the assignment of the function symbol f with arity n according to I, then $f^`(t^`_1,t^`_2,...,t^`_n) \\in \\Delta^I$ is the term assignment of $f(t_1,t_2,...,t_n)$.\n",
    "- Definition 2.12 (`Truth Values`). The valuation of formula F is defined as follows:\n",
    "    - If the formula is an atom $p(t_1,t_2,...,t_n)$ with arity n then the value is obtained by calculating the value of $p^`(t^`_1, t^`_2, ..., t^`_n)$ where p′ is the mapping assigned to p by I and $t^`_1, t^`_2, ..., t^`_n$ are the term assignments of $t_1,t_2,...,t_n$ w.r.t. to σ and I.\n",
    "    - The truth values of formulae B and H are given in Table 2.1\n",
    "        - ![Snip20190302_104.png](Snip20190302_104.png)\n",
    "- Definition 2.13 (`Satisfiability`). A formula F is satisfiable if and only if there exists an interpretation I and variable assignment over some domain $\\Delta^I$ which makes the formula true.\n",
    "- Definition 2.14 (`Unsatisfiability`). A formula F is unsatisfiable if and only if there does not exist any interpretation I, variable assignment and domain $\\Delta^I$ satisfying the formula.\n",
    "- Definition 2.15 (`Model`). If an interpretation I satisfies the formula F and each variable assignment then it is said that I is a model of F , denoted $I \\models F$ .\n",
    "- Definition 2.16 (`Tautology`). A formula F is a tautology if every interpretation I is a model of F. This can be denoted as $\\models F$.\n",
    "- Definition 2.17 (`Logical consequence`, `Logical Implication`, `Entailment`). A formula F is a logical consequence of a set of formulae $\\Sigma$ (denoted as $\\Sigma \\models F$ ) if and only if every model of Σ is also a model of F. In this case we say that Σ entails F or F is logically implied by Σ. $\\Sigma \\nvDash F$ means that F is not a logical consequence of Σ.\n",
    "- Definition 2.18 (`Logical equivalence`). Two formulae F and H are said to be logically equivalent(denoted by F ≡ H) if both $F \\models H$ and $H \\models F$ (so F and H have exactly the same models)."
   ]
  },
  {
   "cell_type": "markdown",
   "metadata": {},
   "source": [
    "#### 2.1.2 Datalog as a First-order Rule Language\n",
    "Characteristic of Datalog as a rule language is a feature called `recursion` which allows the result of a rule can to be used as one of the rule’s premises. Datalog uses the `closed world semantics` which also occurs in relational databases. It means that facts that cannot be proven are considered false."
   ]
  },
  {
   "cell_type": "markdown",
   "metadata": {},
   "source": [
    "##### 2.1.2.1 Syntax\n",
    "- Definition 2.19 (`Datalog rule`). A Datalog rule is an expression of the following form:\n",
    "    - $p_1(\\bar{X}_1), p_2(\\bar{X}_2), ..., p_n(\\bar{X}_n) \\to h(\\bar{X}_h)$ (2.1)\n",
    "    - where $n \\ge 1, p_1, ..., p_n$, h are predicates (relation names) of appropriate arities and $\\bar{X}_1, ..., \\bar{X}_n, \\bar{X}_h$ are sets of terms.\n",
    "- Definition 2.20 (`Datalog safety`). Each variable occurring in $\\bar{X}_h$ must occur at least in one of $\\bar{X}_1, ..., \\bar{X}_n$.\n",
    "- Definition 2.21 (`Datalog program`, the `body` and the `head`). A finite set of Datalog rules is called a Datalog program. The premise of a Datalog rule is called the body (denoted as B) while the conclusion is called the head of a rule (denoted as H).\n",
    "    - The (2.1) form of a rule is logically equivalent to a disjunction of literals where at most one is positive. Such (2.2) formulae are called `Horn clauses`. From that reason a Datalog program can be viewed as a set of Horn clauses.\n",
    "    - $\\lnot p_1(\\bar{X}_1) \\lor \\lnot p_2(\\bar{X}_2) \\lor ... \\lor \\lnot p_n(\\bar{X}_n) \\lor h(\\bar{X}_h)$ (2.2)\n",
    "    - The body of the rule can be called as: premises, antecedents, conditions or if-part of the rule. The head of the rule can be called as: conclusion, consequent or then-part of the rule.\n",
    "    - It is common to omit the universal quantifier (∀) since all variables in Datalog are universally quantified. Rules with an empty body are called `facts` while rules with an empty head are called `constraints` and are used to express the fact that interpretations satisfying the conditions in the body of the rule are not admitted.\n",
    "    - An `extensional` relation is an n-ary predicate which is used to represent facts stored in a database according to the extensional (database) schema, denoted edb(P). Any other predicate is called an `intensional` relation which is defined by a rule (by appearing in the head of a rule). Set of all intensional relations forms the intensional (database) schema, denoted idb(P). The schema of P, denoted sch(P), is the union of edb(P) and idb(P).\n",
    "- Definition 2.22 (`Datalog conjunctive query`). A Datalog conjunctive query is a Datalog rule of the following form:\n",
    "    - $p_1(\\bar{X}_1) \\land ... \\land p_n(\\bar{X}_n) \\to answer(\\bar{X}_a)$\n",
    "    - where n ≥ 0, the $p_i$ are extensional predicates, `answer` is an intensional predicate, $\\bar{X}_a, \\bar{X}_1, ..., \\bar{X}_n$ are lists of terms of appropriate arities and the rule is range restricted, i.e., each variable in $\\bar{X}_a$ also occurs in at least one of $\\bar{X}_1, ..., \\bar{X}_n$ (Datalog safety).\n",
    "\n",
    "An example of a rule which exploits `recursion` is the following:\n",
    "\n",
    "$ancestorOf (?x, ?y) \\land ancestorOf (?y, ?z) \\to ancestorOf (?x, ?z)$ (2.3)\n",
    "\n",
    "The predicate ancestorOf is used both in the head and the body of the rule. It means that the result of the rule can also be used in the next application (firing) of the rule."
   ]
  },
  {
   "cell_type": "markdown",
   "metadata": {},
   "source": [
    "##### 2.1.2.2 Semantics\n",
    "The formal semantics of Datalog is determined by the fact that it is a sub-language of first-order logic. As usual for first-order logic, the semantics of Datalog is `model-theoretic`. There also exist equivalent approaches to define Datalog semantics: proof-theoretic approach and fixpoint approach.\n",
    "\n",
    "- Definition 2.23 (`Datalog interpretation`). A Datalog interpretation I consists of the following:\n",
    "    1. A non-empty interpretation domain $\\Delta^I$ which is a set of individuals.\n",
    "    2. An interpretation function $\\cdot^I$, which establishes the mapping from symbols into $\\Delta^I$ :\n",
    "        - If $c \\in \\Delta$ is an individual name, then $c^I \\in \\Delta^I$ , so c is interpreted as an element of the domain,\n",
    "        - If p ∈ P is a predicate symbol of arity n, and P is a set of permissible predicates, then p is interpreted as an n-ary relation over the domain.\n",
    "- Definition 2.24 (`Variable Assignment`). A variable assignment σ for I is a mapping function $\\sigma^I : \\bar{X} \\to \\Delta^I$ , where $\\bar{X}$ is a set of variables. For a term $t \\in \\Delta \\cup \\bar{X}$ we write $t^{I,\\bar{X}}$ to mean $t^I$ if $t \\in \\Delta$, and $t^{\\bar{X}}$ if $t \\in \\bar{X}$. For an interpretation I and a variable assignment σ for I, the truth value of a Datalog formula is defined in the following way:\n",
    "    - $\\top^{I,\\bar{X}} = true$ and $\\bot^{I,\\bar{X}} = false$.\n",
    "    - For a Datalog atom $p(t_1,t_2,...,t_n)$ we set $p(t_1,t_2,...,t_n)^{I,\\bar{X}} = true$ if we find that $<t^{I,\\bar{X}}_1,t^{I,\\bar{X}}_2,...,t^{I,\\bar{X}}_n> \\in P^I$, and $p(t_1,t_2,...,t_n)^{I,\\bar{X}} = false$ otherwise.\n",
    "    - For a Datalog rule B → H, where B represents an arbitrary conjunction of Datalog predicates, we set $(B \\to H)^I = true$ if we find that either $B^{I,\\bar{X}} = false$ or $H^{I,\\bar{X}} = true$. We set $(B \\to H)^I = false$ otherwise.\n",
    "- Definition 2.25 (`Datalog satisfiability`). A Datalog rule B → H is satisfied by an interpretation I if $(B \\to H)^I = true$. I satisfies a Datalog program if it satisfies all rules of the program. The program (rule) which is satisfied by some interpretation is called satisfiable or consistent.\n",
    "- Definition 2.26 (`Datalog model`). If an interpretation I satisfies a Datalog program (rule) then I is called a model for the program (rule).\n",
    "    - The semantics of Datalog relies on the `closed world assumption` (CWA) which allows to treat facts as if they record complete information about the world their describe. Facts that are not stored in a database are considered false.\n",
    "- Definition 2.27 (`Datalog minimal model`). A Datalog model is called minimal if it consists of the smallest set of facts that makes a Datalog program (rule) true."
   ]
  },
  {
   "cell_type": "markdown",
   "metadata": {},
   "source": [
    "##### 2.1.2.3 Reasoning\n",
    "Datalog was proposed as a way of querying relational databases with conjunctive queries and recursion.\n",
    "\n",
    "```\n",
    "hasChild(?x, ?y), hasChild(?x, ?z) → hasSiblings(?y, ?z) (2.4)\n",
    "hasChild(?x,?z), hasSiblings(?x,?y), hasChild(?y,?w)→ hasCousin(?z, ?w) (2.5)\n",
    "\n",
    "hasCousin(p14, ?x) → (2.6)\n",
    "```\n",
    "\n",
    "Table 2.2: An example extensional database\n",
    "\n",
    "Parent | Child\n",
    "- | -\n",
    "p11 | p12\n",
    "p11 | p13\n",
    "p12 | p14\n",
    "p13 | p15\n",
    "p21 | p22\n",
    "p21 | p23\n",
    "p22 | p24\n",
    "p23 | p25"
   ]
  },
  {
   "cell_type": "markdown",
   "metadata": {},
   "source": [
    "#### 2.1.3 Rule-based Systems\n",
    "A rule-based system is used as a way to derive new facts from the given ones according to the defined set of rules. Such a system consists of few elements:\n",
    "\n",
    "- a list of rules (rule base), which forms a kind of a knowledge base\n",
    "- a working memory, which contains facts. The working memory changes\n",
    "during the reasoning process\n",
    "- an inference engine, which generates a new fact (or takes an action) based on an interaction between facts and the rule base\n",
    "- a user’s interface (e.g. a console)."
   ]
  },
  {
   "cell_type": "markdown",
   "metadata": {},
   "source": [
    "#### 2.1.4 Rule-based Query Answering\n",
    "The first of the aforementioned evaluation classes is a backward chaining method (top-down evaluation), where reasoning is goal-driven. In this case the goal is the query posed to the system. This scheme of reasoning is implemented, for instance, in Prolog engine, and takes the form of the Selection rule-driven Lin- ear resolution for Definite clauses (SLD resolution). In the backward reasoning technique facts are obtained only when they are needed in derivations.\n",
    "\n",
    "On the contrary a forward chaining approach (bottom-up evaluation), which is data-driven, needs reasoning about all facts. In the working memory some of the inferred facts are useless and many rules are fired unnecessarily. It has a negative impact on the efficiency of the answering process. Moreover, as all facts should exist in the working memory, the scalability of reasoning task is poor due to the limited RAM memory. This drawback occurs also in the backward chaining."
   ]
  },
  {
   "cell_type": "code",
   "execution_count": null,
   "metadata": {},
   "outputs": [],
   "source": []
  }
 ],
 "metadata": {
  "kernelspec": {
   "display_name": "Python 3",
   "language": "python",
   "name": "python3"
  },
  "language_info": {
   "codemirror_mode": {
    "name": "ipython",
    "version": 3
   },
   "file_extension": ".py",
   "mimetype": "text/x-python",
   "name": "python",
   "nbconvert_exporter": "python",
   "pygments_lexer": "ipython3",
   "version": "3.7.2"
  }
 },
 "nbformat": 4,
 "nbformat_minor": 2
}
