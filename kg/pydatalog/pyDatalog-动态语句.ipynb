{
 "cells": [
  {
   "cell_type": "markdown",
   "metadata": {},
   "source": [
    "因为一些应用可能需要动态创建和执行Datalog语句（比如实时），这时就可以使用这些指令。下面的例子给出了所有动态Datalog语句的接口："
   ]
  },
  {
   "cell_type": "code",
   "execution_count": 1,
   "metadata": {},
   "outputs": [
    {
     "name": "stdout",
     "output_type": "stream",
     "text": [
      "{('Qianlong',), ('Jiaqing',), ('Yongzheng',)}\n",
      "{('Qianlong',), ('Yongzheng',)}\n"
     ]
    }
   ],
   "source": [
    "from pyDatalog.pyDatalog import assert_fact, retract_fact, load, ask\n",
    "from pyDatalog import pyDatalog\n",
    "\n",
    "# load(string): 从字符中加载Datalog语句\n",
    "load(\"\"\"\n",
    "    + parent('Kangxi', 'Yongzheng')\n",
    "    + parent('Yongzheng', 'Qianlong')\n",
    "    ancestor(X,Y) <= parent(X,Y)\n",
    "    ancestor(X,Y) <= parent(X,Z) & ancestor(Z,Y)\n",
    "    \"\"\")\n",
    "# assert_fact(string,不限量任意参数): 添加事实\n",
    "assert_fact('parent', 'Qianlong','Jiaqing')\n",
    "# 相当于 '+ parent('Qianlong', 'Jiaqing') '\n",
    "\n",
    "# ask: 通过字符串执行指令，并把answer作为元组返回\n",
    "print(ask(\"ancestor('Kangxi',Y)\")) \n",
    "\n",
    "# assert_fact(string,不限量任意参数): 删除事实\n",
    "retract_fact('parent', 'Qianlong','Jiaqing')\n",
    "# 相当于 '- parent('Qianlong', 'Jiaqing')\n",
    "print(ask(\"ancestor('Kangxi',Y)\")) "
   ]
  },
  {
   "cell_type": "markdown",
   "metadata": {},
   "source": [
    "有了这些操作，我们就可以想一些办法来处理更通用的数据格式了，比如说Excel表格(这里使用pandas的DataFrame演示一个简单例子)："
   ]
  },
  {
   "cell_type": "code",
   "execution_count": 2,
   "metadata": {},
   "outputs": [
    {
     "name": "stdout",
     "output_type": "stream",
     "text": [
      "      object relation    subject\n",
      "0     Kangxi   parent  Yongzheng\n",
      "1  Yongzheng   parent   Qianlong\n",
      "2   Qianlong   parent    Jiaqing\n"
     ]
    }
   ],
   "source": [
    "import pandas as pd\n",
    "pyDatalog.clear()   #清空前面学到的事实\n",
    "\n",
    "# 简单的表示关系的数据表\n",
    "data = pd.DataFrame({\"object\":['Kangxi','Yongzheng','Qianlong'],\n",
    "                     \"relation\":['parent','parent','parent'],\n",
    "                     \"subject\":['Yongzheng','Qianlong','Jiaqing']})\n",
    "print(data)"
   ]
  },
  {
   "cell_type": "markdown",
   "metadata": {},
   "source": [
    "数据表转为Datalog语句："
   ]
  },
  {
   "cell_type": "code",
   "execution_count": 3,
   "metadata": {},
   "outputs": [
    {
     "name": "stdout",
     "output_type": "stream",
     "text": [
      "+ parent('Kangxi','Yongzheng')\n",
      "+ parent('Yongzheng','Qianlong')\n",
      "+ parent('Qianlong','Jiaqing')\n",
      "\n"
     ]
    }
   ],
   "source": [
    "data_str = \"\"\n",
    "for line_id,line in data.iterrows():\n",
    "    obj,rela,subj = line[\"object\"],line[\"relation\"],line[\"subject\"]\n",
    "    data_str += \"+ %s('%s','%s')\\n\" % (rela,obj,subj)\n",
    "print(data_str)\n",
    "load(data_str)"
   ]
  },
  {
   "cell_type": "markdown",
   "metadata": {},
   "source": [
    "数据表转为Datalog语句："
   ]
  },
  {
   "cell_type": "code",
   "execution_count": 5,
   "metadata": {},
   "outputs": [
    {
     "name": "stdout",
     "output_type": "stream",
     "text": [
      "+ parent('Kangxi','Yongzheng')\n",
      "+ parent('Yongzheng','Qianlong')\n",
      "+ parent('Qianlong','Jiaqing')\n",
      "\n"
     ]
    }
   ],
   "source": [
    "data_str = \"\"\n",
    "\n",
    "for line_id,line in data.iterrows():\n",
    "    obj,rela,subj = line[\"object\"],line[\"relation\"],line[\"subject\"]\n",
    "    data_str += \"+ %s('%s','%s')\\n\" % (rela,obj,subj)\n",
    "\n",
    "print(data_str)\n",
    "load(data_str)"
   ]
  },
  {
   "cell_type": "markdown",
   "metadata": {},
   "source": [
    "数据表转为Datalog语句："
   ]
  },
  {
   "cell_type": "code",
   "execution_count": 6,
   "metadata": {},
   "outputs": [
    {
     "name": "stdout",
     "output_type": "stream",
     "text": [
      "{('Kangxi', 'Qianlong'), ('Kangxi', 'Yongzheng'), ('Yongzheng', 'Jiaqing'), ('Qianlong', 'Jiaqing'), ('Kangxi', 'Jiaqing'), ('Yongzheng', 'Qianlong')}\n"
     ]
    }
   ],
   "source": [
    "rules = \"\"\"\n",
    "    ancestor(X,Y) <= parent(X,Y)\n",
    "    ancestor(X,Y) <= parent(X,Z) & ancestor(Z,Y)\n",
    "    \"\"\"\n",
    "\n",
    "load(rules)\n",
    "print(ask(\"ancestor(X,Y)\")) "
   ]
  },
  {
   "cell_type": "code",
   "execution_count": null,
   "metadata": {},
   "outputs": [],
   "source": []
  }
 ],
 "metadata": {
  "kernelspec": {
   "display_name": "Python 3",
   "language": "python",
   "name": "python3"
  },
  "language_info": {
   "codemirror_mode": {
    "name": "ipython",
    "version": 3
   },
   "file_extension": ".py",
   "mimetype": "text/x-python",
   "name": "python",
   "nbconvert_exporter": "python",
   "pygments_lexer": "ipython3",
   "version": "3.7.2"
  }
 },
 "nbformat": 4,
 "nbformat_minor": 2
}
