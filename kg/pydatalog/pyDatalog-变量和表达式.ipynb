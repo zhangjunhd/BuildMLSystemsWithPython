{
 "cells": [
  {
   "cell_type": "markdown",
   "metadata": {},
   "source": [
    "声明我们将使用的变量："
   ]
  },
  {
   "cell_type": "code",
   "execution_count": 8,
   "metadata": {},
   "outputs": [
    {
     "name": "stdout",
     "output_type": "stream",
     "text": [
      "X\n",
      "-\n",
      "1\n"
     ]
    }
   ],
   "source": [
    "from pyDatalog import pyDatalog\n",
    "pyDatalog.create_terms('X,Y')\n",
    "# give me all the X so that X is 1\n",
    "print(X==1)"
   ]
  },
  {
   "cell_type": "markdown",
   "metadata": {},
   "source": [
    "查询可以包含多个变量和几个条件（'＆'表示and关系）："
   ]
  },
  {
   "cell_type": "code",
   "execution_count": 2,
   "metadata": {},
   "outputs": [
    {
     "name": "stdout",
     "output_type": "stream",
     "text": [
      "X    | Y    \n",
      "-----|------\n",
      "True | False\n"
     ]
    }
   ],
   "source": [
    "# give me all the X and Y so that X is True and Y is False\n",
    "print((X==True) & (Y==False))"
   ]
  },
  {
   "cell_type": "markdown",
   "metadata": {},
   "source": [
    "有些查询返回空结果："
   ]
  },
  {
   "cell_type": "code",
   "execution_count": 3,
   "metadata": {},
   "outputs": [
    {
     "name": "stdout",
     "output_type": "stream",
     "text": [
      "[]\n"
     ]
    }
   ],
   "source": [
    "# give me all the X that are both True and False\n",
    "print((X==True) & (X==False))"
   ]
  },
  {
   "cell_type": "markdown",
   "metadata": {},
   "source": [
    "除了数字和布尔值之外，变量可以表示字符串(如'Hello')。此外，查询可以包含python表达式(如加法)："
   ]
  },
  {
   "cell_type": "code",
   "execution_count": 4,
   "metadata": {},
   "outputs": [
    {
     "name": "stdout",
     "output_type": "stream",
     "text": [
      "Please enter your name : World\n",
      "X     | Y      \n",
      "------|--------\n",
      "World | Hello W\n"
     ]
    }
   ],
   "source": [
    "# give me all the X and Y so that X is a name and Y is 'Hello ' followed by the first letter of X\n",
    "print((X==input('Please enter your name : ')) & (Y=='Hello ' + X[0]))"
   ]
  },
  {
   "cell_type": "markdown",
   "metadata": {},
   "source": [
    "如果表达式中的变量未被绑定，则查询返回一个空list："
   ]
  },
  {
   "cell_type": "code",
   "execution_count": 5,
   "metadata": {},
   "outputs": [
    {
     "name": "stdout",
     "output_type": "stream",
     "text": [
      "[]\n"
     ]
    }
   ],
   "source": [
    "# give me all the X and Y so that Y is 1 and Y is X+1\n",
    "print((Y==1) & (Y==X+1))"
   ]
  },
  {
   "cell_type": "markdown",
   "metadata": {},
   "source": [
    "变量也可以表示（嵌套的）元组，它们可以参与表达式并被切片（0为基）："
   ]
  },
  {
   "cell_type": "code",
   "execution_count": 9,
   "metadata": {},
   "outputs": [
    {
     "name": "stdout",
     "output_type": "stream",
     "text": [
      "X         | Y\n",
      "----------|--\n",
      "(1, 2, 3) | 3\n"
     ]
    }
   ],
   "source": [
    "print((X==(1,2)+(3,)) & (Y==X[2]))"
   ]
  },
  {
   "cell_type": "markdown",
   "metadata": {},
   "source": [
    "要在逻辑表达式中使用自己的函数，请在Python中定义它们，然后在pyDatalog为它们创建逻辑术语："
   ]
  },
  {
   "cell_type": "code",
   "execution_count": 10,
   "metadata": {},
   "outputs": [
    {
     "name": "stdout",
     "output_type": "stream",
     "text": [
      "X | Y\n",
      "--|--\n",
      "1 | 2\n"
     ]
    }
   ],
   "source": [
    "def twice(a):\n",
    "    return a+a\n",
    "\n",
    "pyDatalog.create_terms('twice')\n",
    "print((X==1) & (Y==twice(X)))"
   ]
  },
  {
   "cell_type": "markdown",
   "metadata": {},
   "source": [
    "同样，pyDatalog变量可以传递给Python标准库中的函数："
   ]
  },
  {
   "cell_type": "code",
   "execution_count": 11,
   "metadata": {},
   "outputs": [
    {
     "name": "stdout",
     "output_type": "stream",
     "text": [
      "X | Y                 \n",
      "--|-------------------\n",
      "2 | 1.4142135623730951\n"
     ]
    }
   ],
   "source": [
    "# give me all the X and Y so that X is 2 and Y is the square root of X\n",
    "import math\n",
    "pyDatalog.create_terms('math')\n",
    "print((X==2) & (Y==math.sqrt(X)))"
   ]
  },
  {
   "cell_type": "markdown",
   "metadata": {},
   "source": [
    "## 循环\n",
    "循环可以通过使用.in_() 方法创建 （我们将在以后看到还有其他方法可以创建循环）： 【注：这里没有使用==，但同样执行了一次查询，查询的结果存在X中】"
   ]
  },
  {
   "cell_type": "code",
   "execution_count": 12,
   "metadata": {},
   "outputs": [
    {
     "name": "stdout",
     "output_type": "stream",
     "text": [
      "X\n",
      "-\n",
      "4\n",
      "3\n",
      "2\n",
      "1\n",
      "0\n"
     ]
    }
   ],
   "source": [
    "pyDatalog.create_terms('X,Y,Z')\n",
    "# give me all the X so that X is in the range 0..4\n",
    "print(X.in_((0,1,2,3,4)))\n",
    "\n",
    "# python中的等效语句\n",
    "# for x in range(5):\n",
    "#     print(x)"
   ]
  },
  {
   "cell_type": "markdown",
   "metadata": {},
   "source": [
    "用.data 属性可以访问结果："
   ]
  },
  {
   "cell_type": "code",
   "execution_count": 13,
   "metadata": {},
   "outputs": [
    {
     "name": "stdout",
     "output_type": "stream",
     "text": [
      "[(4,), (3,), (2,), (1,), (0,)]\n",
      "True\n"
     ]
    }
   ],
   "source": [
    "print(X.in_(range(5)).data)\n",
    "print(X.in_(range(5)) == set([(0,), (1,), (2,), (3,), (4,)]))"
   ]
  },
  {
   "cell_type": "markdown",
   "metadata": {},
   "source": [
    "同样，在查询之后，变量包含所有可能值的元组。它们可以用这些方法访问："
   ]
  },
  {
   "cell_type": "code",
   "execution_count": 14,
   "metadata": {},
   "outputs": [
    {
     "name": "stdout",
     "output_type": "stream",
     "text": [
      "Data :  [4, 3, 2, 1, 0]\n",
      "First value :  4\n",
      "Extraction of first value of X:  4\n"
     ]
    }
   ],
   "source": [
    "print(\"Data : \",X.data)\n",
    "print(\"First value : \",  X.v())\n",
    "# below, '>=' is a variable extraction operator\n",
    "print(\"Extraction of first value of X: \", X.in_(range(5)) >= X)"
   ]
  },
  {
   "cell_type": "markdown",
   "metadata": {},
   "source": [
    "'＆'运算符可用于过滤结果："
   ]
  },
  {
   "cell_type": "code",
   "execution_count": 15,
   "metadata": {},
   "outputs": [
    {
     "name": "stdout",
     "output_type": "stream",
     "text": [
      "X\n",
      "-\n",
      "1\n",
      "0\n"
     ]
    }
   ],
   "source": [
    "# give me all X in range 0..4 that are below 2\n",
    "print(X.in_(range(5)) & (X<2))"
   ]
  },
  {
   "cell_type": "markdown",
   "metadata": {},
   "source": [
    "循环可以很容易地嵌套。使用缩进可以提高可读性："
   ]
  },
  {
   "cell_type": "code",
   "execution_count": 16,
   "metadata": {},
   "outputs": [
    {
     "name": "stdout",
     "output_type": "stream",
     "text": [
      "X | Y | Z\n",
      "--|---|--\n",
      "2 | 0 | 2\n",
      "1 | 1 | 2\n",
      "1 | 0 | 1\n",
      "0 | 2 | 2\n",
      "0 | 1 | 1\n",
      "0 | 0 | 0\n"
     ]
    }
   ],
   "source": [
    "# give me all X, Y and Z so that X and Y are in 0..4, Z is their sum, and Z is below 3\n",
    "print(X.in_(range(5)) &\n",
    "      Y.in_(range(5)) &\n",
    "      (Z==X+Y) &\n",
    "      (Z<3))"
   ]
  },
  {
   "cell_type": "code",
   "execution_count": null,
   "metadata": {},
   "outputs": [],
   "source": []
  }
 ],
 "metadata": {
  "kernelspec": {
   "display_name": "Python 3",
   "language": "python",
   "name": "python3"
  },
  "language_info": {
   "codemirror_mode": {
    "name": "ipython",
    "version": 3
   },
   "file_extension": ".py",
   "mimetype": "text/x-python",
   "name": "python",
   "nbconvert_exporter": "python",
   "pygments_lexer": "ipython3",
   "version": "3.7.2"
  }
 },
 "nbformat": 4,
 "nbformat_minor": 2
}
