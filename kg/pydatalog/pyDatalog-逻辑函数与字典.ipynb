{
 "cells": [
  {
   "cell_type": "markdown",
   "metadata": {},
   "source": [
    "作为例子，我们将计算员工foo和bar的净工资："
   ]
  },
  {
   "cell_type": "code",
   "execution_count": 20,
   "metadata": {},
   "outputs": [
    {
     "name": "stdout",
     "output_type": "stream",
     "text": [
      "X   | Y  \n",
      "----|----\n",
      "foo | 60 \n",
      "bar | 110\n",
      "{'foo': 60, 'bar': 110}\n"
     ]
    }
   ],
   "source": [
    "from pyDatalog import pyDatalog\n",
    "pyDatalog.create_terms('X,Y,Z, salary, tax_rate, tax_rate_for_salary_above, net_salary')\n",
    "salary['foo'] = 60\n",
    "salary['bar'] = 110\n",
    "\n",
    "# Python equivalent【只是作为展示， 实际上_salary 并没有被 define】\n",
    "# _salary = dict()\n",
    "# _salary['foo'] = 60\n",
    "# _salary['bar'] = 110\n",
    "\n",
    "# give me all the X and Y so that the salary of X is Y\n",
    "print(salary[X]==Y)\n",
    "print({X.data[i]:Y.data[i] for i in range(len(X.data))})        #【真正转化为字典的写法】\n",
    "# python equivalent\n",
    "# print(_salary.items())"
   ]
  },
  {
   "cell_type": "markdown",
   "metadata": {},
   "source": [
    "```py\n",
    "salary[X]==Y # the salary of X is Y\n",
    "```\n",
    "\n",
    "一个函数可以用值查询。 一个函数对同一个参数只能有一个值（后来值会覆盖旧值）："
   ]
  },
  {
   "cell_type": "code",
   "execution_count": 21,
   "metadata": {},
   "outputs": [
    {
     "name": "stdout",
     "output_type": "stream",
     "text": [
      "Y \n",
      "--\n",
      "70\n"
     ]
    }
   ],
   "source": [
    "# foo now has a salary of 70\n",
    "salary['foo'] = 70\n",
    "print(salary['foo']==Y)"
   ]
  },
  {
   "cell_type": "markdown",
   "metadata": {},
   "source": [
    "一个函数也可以用键查询："
   ]
  },
  {
   "cell_type": "code",
   "execution_count": 22,
   "metadata": {},
   "outputs": [
    {
     "name": "stdout",
     "output_type": "stream",
     "text": [
      "X  \n",
      "---\n",
      "bar\n"
     ]
    }
   ],
   "source": [
    "# give me all the X that have a salary of 110\n",
    "print(salary[X]==110)\n",
    "# procedural equivalent in python\n",
    "# for i, j in _salary.items():\n",
    "#     if j==110:\n",
    "#         print i, '-->', j\n",
    "#  Notice that there is a implicit loop in the query."
   ]
  },
  {
   "cell_type": "markdown",
   "metadata": {},
   "source": [
    "查询可以测试一个标准的否定："
   ]
  },
  {
   "cell_type": "code",
   "execution_count": 23,
   "metadata": {},
   "outputs": [
    {
     "name": "stdout",
     "output_type": "stream",
     "text": [
      "X   | Y \n",
      "----|---\n",
      "foo | 70\n"
     ]
    }
   ],
   "source": [
    "# A query can test the negation of a criteria.\n",
    "print((salary[X]==Y) & ~(Y==110))"
   ]
  },
  {
   "cell_type": "markdown",
   "metadata": {},
   "source": [
    "现在让我们定义一个全球税率。我们将使用 None 函数参数："
   ]
  },
  {
   "cell_type": "code",
   "execution_count": 24,
   "metadata": {},
   "outputs": [
    {
     "name": "stdout",
     "output_type": "stream",
     "text": [
      "X   | Z                \n",
      "----|------------------\n",
      "foo | 46.89999999999999\n",
      "bar | 73.69999999999999\n"
     ]
    }
   ],
   "source": [
    "# Let's now define a global tax rate. We'll use None for the function argument:\n",
    "# the standard tax rate is 33%\n",
    "+(tax_rate[None]==0.33)\n",
    "\n",
    "# 一个函数可以在公式中调用：\n",
    "# give me the net salary for all X\n",
    "print((Z==salary[X]*(1-tax_rate[None])))"
   ]
  },
  {
   "cell_type": "code",
   "execution_count": 25,
   "metadata": {},
   "outputs": [
    {
     "name": "stdout",
     "output_type": "stream",
     "text": [
      "Y                \n",
      "-----------------\n",
      "46.89999999999999\n",
      "X  \n",
      "---\n",
      "foo\n"
     ]
    }
   ],
   "source": [
    "# give me the net salary of foo\n",
    "print(net_salary['foo']==Y)\n",
    "print(net_salary[X]<50)"
   ]
  },
  {
   "cell_type": "markdown",
   "metadata": {},
   "source": [
    "现在让我们定义一个全球税率。我们将使用 None 函数参数："
   ]
  },
  {
   "cell_type": "code",
   "execution_count": 26,
   "metadata": {},
   "outputs": [
    {
     "name": "stdout",
     "output_type": "stream",
     "text": [
      "X   | Z                \n",
      "----|------------------\n",
      "foo | 46.89999999999999\n",
      "bar | 73.69999999999999\n"
     ]
    }
   ],
   "source": [
    "# Let's now define a global tax rate. We'll use None for the function argument:\n",
    "# the standard tax rate is 33%\n",
    "+(tax_rate[None]==0.33)\n",
    "\n",
    "# 一个函数可以在公式中调用：\n",
    "# give me the net salary for all X\n",
    "print((Z==salary[X]*(1-tax_rate[None])))"
   ]
  },
  {
   "cell_type": "markdown",
   "metadata": {},
   "source": [
    "在这种情况下，X受到salary[X]的约束，因此可以评估表达式。\n",
    "\n",
    "一个函数也可以由一个子句定义。这是一个简单的例子："
   ]
  },
  {
   "cell_type": "code",
   "execution_count": 27,
   "metadata": {},
   "outputs": [
    {
     "name": "stdout",
     "output_type": "stream",
     "text": [
      "X   | Y                \n",
      "----|------------------\n",
      "foo | 46.89999999999999\n",
      "bar | 73.69999999999999\n"
     ]
    }
   ],
   "source": [
    "# the net salary of X is Y if Y is the salary of X, reduced by the tax rate\n",
    "net_salary[X] = salary[X]*(1-tax_rate[None])\n",
    "\n",
    "# give me all the X and Y so that Y is the net salary of X\n",
    "print(net_salary[X]==Y)"
   ]
  },
  {
   "cell_type": "code",
   "execution_count": 28,
   "metadata": {},
   "outputs": [
    {
     "name": "stdout",
     "output_type": "stream",
     "text": [
      "Y                \n",
      "-----------------\n",
      "46.89999999999999\n",
      "X  \n",
      "---\n",
      "foo\n"
     ]
    }
   ],
   "source": [
    "# give me the net salary of foo\n",
    "print(net_salary['foo']==Y)\n",
    "print(net_salary[X]<50)"
   ]
  },
  {
   "cell_type": "markdown",
   "metadata": {},
   "source": [
    "现在让我们来定义一个累进税制：默认税率是33％，但是100％以上的工资是50％："
   ]
  },
  {
   "cell_type": "code",
   "execution_count": 29,
   "metadata": {},
   "outputs": [
    {
     "name": "stdout",
     "output_type": "stream",
     "text": [
      "Y   \n",
      "----\n",
      "0.33\n",
      "Y  \n",
      "---\n",
      "0.5\n"
     ]
    }
   ],
   "source": [
    "# Let's now define a progressive tax system: the tax rate is 33 % by default, but 50% for salaries above 100.\n",
    "(tax_rate_for_salary_above[X] == 0.33) <= (0 <= X)\n",
    "(tax_rate_for_salary_above[X] == 0.50) <= (100 <= X)\n",
    "print(tax_rate_for_salary_above[70]==Y)\n",
    "print(tax_rate_for_salary_above[150]==Y)"
   ]
  },
  {
   "cell_type": "markdown",
   "metadata": {},
   "source": [
    "## 这里第一次出现了“推理”\n",
    "\"<=\"是上述陈述中的重要标志：它被读作'if'。【可以用来定义“推出”的规则】\n",
    "\n",
    "首先给出函数的最一般定义。当搜索可能的答案时，pyDatalog从最后定义的规则开始，即更具体的规则，只要找到该函数的有效答案就立即停止。所以，尽管这两条规则似乎都适用于150的薪水，但实际上我们是按照第二条规则得到了50％的税率。\n",
    "\n",
    "接下来让我们重新定义净工资。在此之前，我们要删除原始定义："
   ]
  },
  {
   "cell_type": "code",
   "execution_count": 31,
   "metadata": {},
   "outputs": [
    {
     "name": "stdout",
     "output_type": "stream",
     "text": [
      "X   | Y                \n",
      "----|------------------\n",
      "foo | 46.89999999999999\n",
      "bar | 55.0             \n"
     ]
    }
   ],
   "source": [
    "# new definition\n",
    "net_salary[X] = salary[X]*(1-tax_rate_for_salary_above[salary[X]])\n",
    "# give me all X and Y so that Y is the net salary of X\n",
    "print(net_salary[X]==Y)\n",
    "# Please note that we used f[X]=<expr> above, as a shorter notation for (f[X]==Y) <= (Y==expr)\n",
    "\n",
    "# This short notation, together with the fact that functions can be defined in any order,\n",
    "# makes writing a pyDatalog program as easy as creating a spreadsheet."
   ]
  },
  {
   "cell_type": "markdown",
   "metadata": {},
   "source": [
    "请注意，我们在上面使用的f[X]=，是(f[X]==Y) <= (Y==expr)的简写。\n",
    "\n",
    "这个简短的表示法以及可以按任意顺序定义函数的事实，使得编写pyDatalog程序像创建电子表格一样简单。\n",
    "\n",
    "为了说明这一点，看看这个不能更清晰的Factorial的定义："
   ]
  },
  {
   "cell_type": "code",
   "execution_count": 32,
   "metadata": {},
   "outputs": [
    {
     "name": "stdout",
     "output_type": "stream",
     "text": [
      "N\n",
      "-\n",
      "6\n"
     ]
    }
   ],
   "source": [
    "# To illustrate the point, this definition of Factorial cannot be any clearer !\n",
    "pyDatalog.create_terms('N, factorial')\n",
    "factorial[N] = N*factorial[N-1]\n",
    "factorial[1] = 1\n",
    "\n",
    "print(factorial[3]==N)"
   ]
  },
  {
   "cell_type": "code",
   "execution_count": null,
   "metadata": {},
   "outputs": [],
   "source": []
  }
 ],
 "metadata": {
  "kernelspec": {
   "display_name": "Python 3",
   "language": "python",
   "name": "python3"
  },
  "language_info": {
   "codemirror_mode": {
    "name": "ipython",
    "version": 3
   },
   "file_extension": ".py",
   "mimetype": "text/x-python",
   "name": "python",
   "nbconvert_exporter": "python",
   "pygments_lexer": "ipython3",
   "version": "3.7.2"
  }
 },
 "nbformat": 4,
 "nbformat_minor": 2
}
