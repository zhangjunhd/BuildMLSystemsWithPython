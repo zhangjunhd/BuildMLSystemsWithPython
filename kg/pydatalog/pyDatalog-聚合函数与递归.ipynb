{
 "cells": [
  {
   "cell_type": "markdown",
   "metadata": {},
   "source": [
    "## 聚合函数\n",
    "聚合函数是一种特殊类型的函数【与数组类元素相关】。我们首先创建说明所需的数据："
   ]
  },
  {
   "cell_type": "code",
   "execution_count": 1,
   "metadata": {},
   "outputs": [],
   "source": [
    "from pyDatalog import pyDatalog\n",
    "pyDatalog.create_terms('X,Y,manager, count_of_direct_reports')\n",
    "# the manager of Mary is John\n",
    "+(manager['Mary'] == 'John')\n",
    "+(manager['Sam']  == 'Mary')\n",
    "+(manager['Tom']  == 'Mary')"
   ]
  },
  {
   "cell_type": "markdown",
   "metadata": {},
   "source": [
    "最基本的聚合函数是len_()，它计算规模："
   ]
  },
  {
   "cell_type": "code",
   "execution_count": 2,
   "metadata": {},
   "outputs": [
    {
     "name": "stdout",
     "output_type": "stream",
     "text": [
      "Y\n",
      "-\n",
      "2\n"
     ]
    }
   ],
   "source": [
    "(count_of_direct_reports[X]==len_(Y)) <= (manager[Y]==X)\n",
    "print(count_of_direct_reports['Mary']==Y)"
   ]
  },
  {
   "cell_type": "markdown",
   "metadata": {},
   "source": [
    "聚合函数包括：\n",
    "\n",
    "- len_ (P[X]==len_(Y)) <= body ：P[X]是Y的值的计数（通过子句的主体与X关联）\n",
    "- sum_ (P[X]==sum_(Y, for_each=Z)) <= body ：P[X]是每个Z中的Y的总和。（Z用于区分可能相同的Y值）\n",
    "- min_， max_ (P[X]==min_(Y, order_by=Z)) <= body ：P[X]是按Z排序的Y的最小值（或最大值）。\n",
    "- tuple_ (P[X]==tuple_(Y, order_by=Z)) <= body ：P[X]是一个元组，包含按Z排序的Y的所有值。\n",
    "- concat_ (P[X]==concat_(Y, order_by=Z, sep=',')) <= body ：与'sum'相同，但是用于字符串。字符串按Z排序，并用'，'分隔。\n",
    "- rank_ (P[X]==rank_(group_by=Y, order_by=Z)) <= body ：P[X]是列表按Z排序时的Y值列表中的X的序列号。\n",
    "- running_sum_ (P[X]==running_sum_(N, group_by=Y, order_by=Z)) <= body ：P[X]是当Y按Z排序时每个在之前X或等于X的N值的总和 。 mean_和 linear_regression：请参阅我们的参考（ https://sites.google.com/site/pydatalog/reference ）"
   ]
  },
  {
   "cell_type": "markdown",
   "metadata": {},
   "source": [
    "## 字面值和集合\n",
    "就像pyDatalog函数的行为与Python中的字典一样，pyDatalog字面值的行为与Python中的集合很相似："
   ]
  },
  {
   "cell_type": "code",
   "execution_count": 4,
   "metadata": {},
   "outputs": [],
   "source": [
    "from pyDatalog import pyDatalog\n",
    "pyDatalog.create_terms('X,Y,Z,\\\n",
    "                       works_in,\\\n",
    "                       department_size,\\\n",
    "                       manager,\\\n",
    "                       indirect_manager,\\\n",
    "                       count_of_indirect_reports')"
   ]
  },
  {
   "cell_type": "markdown",
   "metadata": {},
   "source": [
    "向集合中添加事实的方法："
   ]
  },
  {
   "cell_type": "code",
   "execution_count": 5,
   "metadata": {},
   "outputs": [],
   "source": [
    "# Mary works in Production\n",
    "+ works_in('Mary', 'Production')\n",
    "+ works_in('Sam',  'Marketing')\n",
    "\n",
    "+ works_in('John', 'Production')\n",
    "+ works_in('John', 'Marketing')"
   ]
  },
  {
   "cell_type": "markdown",
   "metadata": {},
   "source": [
    "同样，字面值也可以按值查询,比在原生python中的操作简洁："
   ]
  },
  {
   "cell_type": "code",
   "execution_count": 6,
   "metadata": {},
   "outputs": [
    {
     "name": "stdout",
     "output_type": "stream",
     "text": [
      "X   \n",
      "----\n",
      "John\n",
      "Sam \n"
     ]
    }
   ],
   "source": [
    "# give me all the X that work in Marketing\n",
    "print(works_in(X,  'Marketing'))\n",
    "# procedural equivalent in Python\n",
    "# for i in _works_in:\n",
    "#     if i[1]=='Marketing':\n",
    "#         print i[0]"
   ]
  },
  {
   "cell_type": "markdown",
   "metadata": {},
   "source": [
    "字面值也可以通过子句来定义（从这里就可以看到，“字面值”这个概念与谓词逻辑的形式是十分相似的）："
   ]
  },
  {
   "cell_type": "code",
   "execution_count": 7,
   "metadata": {},
   "outputs": [
    {
     "name": "stdout",
     "output_type": "stream",
     "text": [
      "X   \n",
      "----\n",
      "Mary\n",
      "John\n"
     ]
    }
   ],
   "source": [
    "# one of the indirect manager of X is Y, if the (direct) manager of X is Y\n",
    "indirect_manager(X,Y) <= (manager[X] == Y)\n",
    "# another indirect manager of X is Y, if there is a Z so that the manager of X is Z, \n",
    "#   and an indirect manager of Z is Y\n",
    "indirect_manager(X,Y) <= (manager[X] == Z) & indirect_manager(Z,Y)\n",
    "print(indirect_manager('Sam',X))"
   ]
  },
  {
   "cell_type": "markdown",
   "metadata": {},
   "source": [
    "请注意，这里使用了2个独立的子句实现了隐式的“或”。\n",
    "\n",
    "“字面值”和上一篇中的“函数”的区别与联系： \n",
    "1. 前者使用圆括号，没有值（也就不能用==）；后者使用方括号，对于括号中的元素有一个取值。\n",
    "2. 在用法上，manager[X] == Y 与 manager(X,Y)也是相似的， 但是按关键字查询中,manager['Mary'] == X 与 manager('Mary',X)相比会更高效。前者是一个哈希操作，而后者依然需要循环。\n",
    "\n",
    "当解析查询时，pyDatalog可以记得中间结果，通过这个过程被称为记忆化。这使查询更快，而且它也有助于处理无限循环："
   ]
  },
  {
   "cell_type": "code",
   "execution_count": 8,
   "metadata": {},
   "outputs": [
    {
     "name": "stdout",
     "output_type": "stream",
     "text": [
      "X   \n",
      "----\n",
      "John\n",
      "Mary\n"
     ]
    }
   ],
   "source": [
    "# the manager of John is Mary (whose manager is John !)\n",
    "manager['John'] = 'Mary'\n",
    "manager['Mary'] = 'John'\n",
    "print(indirect_manager('John',X))       # no infinite loop"
   ]
  },
  {
   "cell_type": "markdown",
   "metadata": {},
   "source": [
    "这使pyDatalog成为在复杂数据结构上实现递归算法的一个很好的工具，例如表示网络。\n",
    "\n",
    "也可以删除事实："
   ]
  },
  {
   "cell_type": "code",
   "execution_count": 9,
   "metadata": {},
   "outputs": [],
   "source": [
    "# John does not work in Production anymore\n",
    "- works_in('John', 'Production')\n",
    "# 补充：\n",
    "# 【也可以用增减事实(fact)同样的方式增减定理，但注意加上括号，加定理没有加号，但是减定理需要减号】\n",
    "# - (indirect_manager(X,Y) <= (manager[X] == Z) & indirect_manager(Z,Y))\n",
    "# print(indirect_manager('John',X))"
   ]
  },
  {
   "cell_type": "markdown",
   "metadata": {},
   "source": [
    "聚合函数也可以在字面值上定义："
   ]
  },
  {
   "cell_type": "code",
   "execution_count": 10,
   "metadata": {},
   "outputs": [
    {
     "name": "stdout",
     "output_type": "stream",
     "text": [
      "Y\n",
      "-\n",
      "4\n"
     ]
    }
   ],
   "source": [
    "(count_of_indirect_reports[X]==len_(Y)) <= indirect_manager(Y,X)\n",
    "print(count_of_indirect_reports['John']==Y)        "
   ]
  },
  {
   "cell_type": "markdown",
   "metadata": {},
   "source": [
    "## 树，图，与递归算法\n",
    "树和图可以用它们的结点之间的连接定义："
   ]
  },
  {
   "cell_type": "code",
   "execution_count": 11,
   "metadata": {},
   "outputs": [
    {
     "data": {
      "text/plain": [
       "link(X,Y) <= link(Y,X)"
      ]
     },
     "execution_count": 11,
     "metadata": {},
     "output_type": "execute_result"
    }
   ],
   "source": [
    "pyDatalog.create_terms('link, can_reach')\n",
    "\n",
    "# there is a link between node 1 and node 2\n",
    "+link(1,2)\n",
    "+link(2,3)\n",
    "+link(2,4)\n",
    "+link(2,5)\n",
    "+link(5,6)\n",
    "+link(6,7)\n",
    "+link(7,2)\n",
    "\n",
    "# 无向图，边双向连接\n",
    "link(X,Y) <= link(Y,X)"
   ]
  },
  {
   "cell_type": "markdown",
   "metadata": {},
   "source": [
    "下面两个子句解释了如何确定两个结点X,Y之间的可达关系："
   ]
  },
  {
   "cell_type": "code",
   "execution_count": 12,
   "metadata": {},
   "outputs": [
    {
     "name": "stdout",
     "output_type": "stream",
     "text": [
      "Y\n",
      "-\n",
      "2\n",
      "7\n",
      "3\n",
      "5\n",
      "4\n",
      "6\n"
     ]
    }
   ],
   "source": [
    "# can Y be reached from X ?\n",
    "can_reach(X,Y) <= link(X,Y) # direct link\n",
    "# via Z\n",
    "can_reach(X,Y) <= link(X,Z) & can_reach(Z,Y) & (X!=Y)\n",
    "\n",
    "print (can_reach(1,Y))"
   ]
  },
  {
   "cell_type": "markdown",
   "metadata": {},
   "source": [
    "请注意，尽管图中有循环，但pyDatalog足够聪明以解决查询问题。\n",
    "\n",
    "这个例子（ https://github.com/pcarbonn/pyDatalog/blob/master/pyDatalog/examples/graph.py ） 中有更多的图算法的例子。\n",
    "\n",
    "## 8皇后问题\n",
    "通过结合我们迄今为止所学的，我们可以用声明式编程处理复杂问题，并让计算机找到解决它们的过程。 作为一个例子，让我们为8皇后问题编程找到一个有效的解决方案 。任何N皇后问题的解决方案可以在这里找到( https://github.com/pcarbonn/pyDatalog/blob/master/pyDatalog/examples/queens_N.py ) 。"
   ]
  },
  {
   "cell_type": "code",
   "execution_count": 13,
   "metadata": {},
   "outputs": [
    {
     "name": "stdout",
     "output_type": "stream",
     "text": [
      "(7, 3, 0, 2, 5, 1, 6, 4)\n"
     ]
    }
   ],
   "source": [
    "from pyDatalog import pyDatalog\n",
    "pyDatalog.create_terms('N,X0,X1,X2,X3,X4,X5,X6,X7')\n",
    "pyDatalog.create_terms('ok,queens,next_queen')\n",
    "\n",
    "# the queen in the first column can be in any row\n",
    "queens(X0)                      <= (X0._in(range(8)))\n",
    "\n",
    "# to find the queens in the first 2 columns, find the first one first, then find a second one\n",
    "queens(X0,X1)                   <= queens(X0)                   & next_queen(X0,X1)\n",
    "\n",
    "# repeat for the following queens\n",
    "queens(X0,X1,X2)                <= queens(X0,X1)                & next_queen(X0,X1,X2)\n",
    "queens(X0,X1,X2,X3)             <= queens(X0,X1,X2)             & next_queen(X0,X1,X2,X3)\n",
    "queens(X0,X1,X2,X3,X4)          <= queens(X0,X1,X2,X3)          & next_queen(X0,X1,X2,X3,X4)\n",
    "queens(X0,X1,X2,X3,X4,X5)       <= queens(X0,X1,X2,X3,X4)       & next_queen(X0,X1,X2,X3,X4,X5)\n",
    "queens(X0,X1,X2,X3,X4,X5,X6)    <= queens(X0,X1,X2,X3,X4,X5)    & next_queen(X0,X1,X2,X3,X4,X5,X6)\n",
    "queens(X0,X1,X2,X3,X4,X5,X6,X7) <= queens(X0,X1,X2,X3,X4,X5,X6) & next_queen(X0,X1,X2,X3,X4,X5,X6,X7)\n",
    "\n",
    "# the second queen can be in any row, provided it is compatible with the first one\n",
    "next_queen(X0,X1)                   <= queens(X1)                       & ok(X0,1,X1)\n",
    "\n",
    "# to find the third queen, first find a queen compatible with the second one, then with the first\n",
    "# re-use the previous clause for maximum speed, thanks to memoization\n",
    "next_queen(X0,X1,X2)                <= next_queen(X1,X2)                & ok(X0,2,X2)\n",
    "\n",
    "# repeat for all queens\n",
    "next_queen(X0,X1,X2,X3)             <= next_queen(X1,X2,X3)             & ok(X0,3,X3)\n",
    "next_queen(X0,X1,X2,X3,X4)          <= next_queen(X1,X2,X3,X4)          & ok(X0,4,X4)\n",
    "next_queen(X0,X1,X2,X3,X4,X5)       <= next_queen(X1,X2,X3,X4,X5)       & ok(X0,5,X5)\n",
    "next_queen(X0,X1,X2,X3,X4,X5,X6)    <= next_queen(X1,X2,X3,X4,X5,X6)    & ok(X0,6,X6)\n",
    "next_queen(X0,X1,X2,X3,X4,X5,X6,X7) <= next_queen(X1,X2,X3,X4,X5,X6,X7) & ok(X0,7,X7)\n",
    "\n",
    "# it's ok to have one queen in row X1 and another in row X2 if they are separated by N columns\n",
    "ok(X1, N, X2) <= (X1 != X2) & (X1 != X2+N) & (X1 != X2-N)\n",
    "\n",
    "# give me one solution to the 8-queen puzzle\n",
    "print(queens(X0,X1,X2,X3,X4,X5,X6,X7).data[0])"
   ]
  },
  {
   "cell_type": "code",
   "execution_count": null,
   "metadata": {},
   "outputs": [],
   "source": []
  }
 ],
 "metadata": {
  "kernelspec": {
   "display_name": "Python 3",
   "language": "python",
   "name": "python3"
  },
  "language_info": {
   "codemirror_mode": {
    "name": "ipython",
    "version": 3
   },
   "file_extension": ".py",
   "mimetype": "text/x-python",
   "name": "python",
   "nbconvert_exporter": "python",
   "pygments_lexer": "ipython3",
   "version": "3.7.2"
  }
 },
 "nbformat": 4,
 "nbformat_minor": 2
}
